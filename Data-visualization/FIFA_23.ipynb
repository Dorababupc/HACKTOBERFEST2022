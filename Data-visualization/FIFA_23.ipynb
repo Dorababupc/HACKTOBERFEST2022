{
  "nbformat": 4,
  "nbformat_minor": 0,
  "metadata": {
    "colab": {
      "provenance": []
    },
    "kernelspec": {
      "name": "python3",
      "display_name": "Python 3"
    },
    "language_info": {
      "name": "python"
    }
  },
  "cells": [
    {
      "cell_type": "markdown",
      "source": [
        "##Data Visualizationa and Analysis on FIFA 23 OFFICIAL DATASET"
      ],
      "metadata": {
        "id": "SdLvH2syjkps"
      }
    },
    {
      "cell_type": "markdown",
      "source": [
        "###Importing libraries and dataset"
      ],
      "metadata": {
        "id": "HO9F7oDBou_x"
      }
    },
    {
      "cell_type": "code",
      "execution_count": 48,
      "metadata": {
        "id": "H-Gxl29BJ1QY"
      },
      "outputs": [],
      "source": [
        "import numpy as np\n",
        "import pandas as pd\n",
        "import seaborn as sns\n",
        "import matplotlib.pyplot as plt\n",
        "from sklearn.metrics import mean_absolute_error\n",
        "from sklearn.model_selection import train_test_split\n",
        "from sklearn.pipeline import make_pipeline\n",
        "from sklearn.linear_model import LinearRegression, Ridge"
      ]
    },
    {
      "cell_type": "code",
      "source": [
        "from google.colab import drive"
      ],
      "metadata": {
        "id": "_xcNij1mpYyE"
      },
      "execution_count": 3,
      "outputs": []
    },
    {
      "cell_type": "code",
      "source": [
        "drive.mount('/content/drive')"
      ],
      "metadata": {
        "colab": {
          "base_uri": "https://localhost:8080/"
        },
        "id": "ekLkqoJ1pcv-",
        "outputId": "c83a7d07-b48d-40f4-884b-acd3895cba8b"
      },
      "execution_count": 4,
      "outputs": [
        {
          "output_type": "stream",
          "name": "stdout",
          "text": [
            "Mounted at /content/drive\n"
          ]
        }
      ]
    },
    {
      "cell_type": "code",
      "source": [
        "!ls '/content/drive/MyDrive/datasets/FIFA23_official_data.csv'"
      ],
      "metadata": {
        "colab": {
          "base_uri": "https://localhost:8080/"
        },
        "id": "BkY_cQtkpoYd",
        "outputId": "3bc5ec71-4500-4ac4-cafc-5172718acdd8"
      },
      "execution_count": 6,
      "outputs": [
        {
          "output_type": "stream",
          "name": "stdout",
          "text": [
            "/content/drive/MyDrive/datasets/FIFA23_official_data.csv\n"
          ]
        }
      ]
    },
    {
      "cell_type": "markdown",
      "source": [
        "### 2. Exploring dataset\n"
      ],
      "metadata": {
        "id": "SMb9GqJdpK1P"
      }
    },
    {
      "cell_type": "code",
      "source": [
        "#Pandas Dataframe\n",
        "data = pd.read_csv(\"/content/drive/MyDrive/datasets/FIFA23_official_data.csv\")\n",
        "print(data)"
      ],
      "metadata": {
        "colab": {
          "base_uri": "https://localhost:8080/"
        },
        "id": "w-nD3km_o6SS",
        "outputId": "de06a022-0e55-4b97-bc10-e51823633aae"
      },
      "execution_count": 10,
      "outputs": [
        {
          "output_type": "stream",
          "name": "stdout",
          "text": [
            "           ID             Name  Age  \\\n",
            "0      209658      L. Goretzka   27   \n",
            "1      212198  Bruno Fernandes   27   \n",
            "2      224334         M. Acuña   30   \n",
            "3      192985     K. De Bruyne   31   \n",
            "4      224232       N. Barella   25   \n",
            "...       ...              ...  ...   \n",
            "17655  269526    Deng Xiongtao   19   \n",
            "17656  267946   22 Lim Jun Sub   17   \n",
            "17657  270567         A. Demir   25   \n",
            "17658  256624     21 S. Czajor   18   \n",
            "17659  256376  21 F. Jakobsson   20   \n",
            "\n",
            "                                                  Photo     Nationality  \\\n",
            "0      https://cdn.sofifa.net/players/209/658/23_60.png         Germany   \n",
            "1      https://cdn.sofifa.net/players/212/198/23_60.png        Portugal   \n",
            "2      https://cdn.sofifa.net/players/224/334/23_60.png       Argentina   \n",
            "3      https://cdn.sofifa.net/players/192/985/23_60.png         Belgium   \n",
            "4      https://cdn.sofifa.net/players/224/232/23_60.png           Italy   \n",
            "...                                                 ...             ...   \n",
            "17655  https://cdn.sofifa.net/players/269/526/23_60.png        China PR   \n",
            "17656  https://cdn.sofifa.net/players/267/946/22_60.png  Korea Republic   \n",
            "17657  https://cdn.sofifa.net/players/270/567/23_60.png          Turkey   \n",
            "17658  https://cdn.sofifa.net/players/256/624/21_60.png          Poland   \n",
            "17659  https://cdn.sofifa.net/players/256/376/21_60.png          Sweden   \n",
            "\n",
            "                                      Flag  Overall  Potential  \\\n",
            "0      https://cdn.sofifa.net/flags/de.png       87         88   \n",
            "1      https://cdn.sofifa.net/flags/pt.png       86         87   \n",
            "2      https://cdn.sofifa.net/flags/ar.png       85         85   \n",
            "3      https://cdn.sofifa.net/flags/be.png       91         91   \n",
            "4      https://cdn.sofifa.net/flags/it.png       86         89   \n",
            "...                                    ...      ...        ...   \n",
            "17655  https://cdn.sofifa.net/flags/cn.png       48         61   \n",
            "17656  https://cdn.sofifa.net/flags/kr.png       48         64   \n",
            "17657  https://cdn.sofifa.net/flags/tr.png       51         56   \n",
            "17658  https://cdn.sofifa.net/flags/pl.png       50         65   \n",
            "17659  https://cdn.sofifa.net/flags/se.png       50         61   \n",
            "\n",
            "                    Club                                   Club Logo  ...  \\\n",
            "0      FC Bayern München      https://cdn.sofifa.net/teams/21/30.png  ...   \n",
            "1      Manchester United      https://cdn.sofifa.net/teams/11/30.png  ...   \n",
            "2             Sevilla FC     https://cdn.sofifa.net/teams/481/30.png  ...   \n",
            "3        Manchester City      https://cdn.sofifa.net/teams/10/30.png  ...   \n",
            "4                  Inter      https://cdn.sofifa.net/teams/44/30.png  ...   \n",
            "...                  ...                                         ...  ...   \n",
            "17655      Meizhou Hakka  https://cdn.sofifa.net/teams/114628/30.png  ...   \n",
            "17656     Jeju United FC    https://cdn.sofifa.net/teams/1478/30.png  ...   \n",
            "17657       Ümraniyespor  https://cdn.sofifa.net/teams/113796/30.png  ...   \n",
            "17658     Fleetwood Town  https://cdn.sofifa.net/teams/112260/30.png  ...   \n",
            "17659     IFK Norrköping     https://cdn.sofifa.net/teams/702/30.png  ...   \n",
            "\n",
            "      Real Face                     Position        Joined Loaned From  \\\n",
            "0           Yes  <span class=\"pos pos28\">SUB   Jul 1, 2018         NaN   \n",
            "1           Yes  <span class=\"pos pos15\">LCM  Jan 30, 2020         NaN   \n",
            "2            No    <span class=\"pos pos7\">LB  Sep 14, 2020         NaN   \n",
            "3           Yes  <span class=\"pos pos13\">RCM  Aug 30, 2015         NaN   \n",
            "4           Yes  <span class=\"pos pos13\">RCM   Sep 1, 2020         NaN   \n",
            "...         ...                          ...           ...         ...   \n",
            "17655        No  <span class=\"pos pos29\">RES  Apr 11, 2022         NaN   \n",
            "17656        No  <span class=\"pos pos29\">RES   Jan 1, 2022         NaN   \n",
            "17657        No  <span class=\"pos pos29\">RES   Jun 6, 2021         NaN   \n",
            "17658        No  <span class=\"pos pos29\">RES   Jan 1, 2020         NaN   \n",
            "17659        No  <span class=\"pos pos29\">RES   Jan 8, 2020         NaN   \n",
            "\n",
            "       Contract Valid Until  Height  Weight Release Clause Kit Number  \\\n",
            "0                      2026   189cm    82kg          €157M        8.0   \n",
            "1                      2026   179cm    69kg          €155M        8.0   \n",
            "2                      2024   172cm    69kg         €97.7M       19.0   \n",
            "3                      2025   181cm    70kg        €198.9M       17.0   \n",
            "4                      2026   172cm    68kg        €154.4M       23.0   \n",
            "...                     ...     ...     ...            ...        ...   \n",
            "17655                  2027   190cm    78kg          €218K       35.0   \n",
            "17656                  2026   195cm    84kg          €188K       21.0   \n",
            "17657                  2023   190cm    82kg          €142K       12.0   \n",
            "17658                  2021   187cm    79kg          €214K       40.0   \n",
            "17659                  2021   186cm    78kg          €131K       30.0   \n",
            "\n",
            "      Best Overall Rating  \n",
            "0                     NaN  \n",
            "1                     NaN  \n",
            "2                     NaN  \n",
            "3                     NaN  \n",
            "4                     NaN  \n",
            "...                   ...  \n",
            "17655                 NaN  \n",
            "17656                 NaN  \n",
            "17657                 NaN  \n",
            "17658                 NaN  \n",
            "17659                 NaN  \n",
            "\n",
            "[17660 rows x 29 columns]\n"
          ]
        }
      ]
    },
    {
      "cell_type": "code",
      "source": [
        "#Pandas Function\n",
        "data.head()"
      ],
      "metadata": {
        "colab": {
          "base_uri": "https://localhost:8080/",
          "height": 508
        },
        "id": "fzDa66RyqwTl",
        "outputId": "119c4cf0-70c4-4ed6-cc7e-e3429aa0394a"
      },
      "execution_count": 11,
      "outputs": [
        {
          "output_type": "execute_result",
          "data": {
            "text/plain": [
              "       ID             Name  Age  \\\n",
              "0  209658      L. Goretzka   27   \n",
              "1  212198  Bruno Fernandes   27   \n",
              "2  224334         M. Acuña   30   \n",
              "3  192985     K. De Bruyne   31   \n",
              "4  224232       N. Barella   25   \n",
              "\n",
              "                                              Photo Nationality  \\\n",
              "0  https://cdn.sofifa.net/players/209/658/23_60.png     Germany   \n",
              "1  https://cdn.sofifa.net/players/212/198/23_60.png    Portugal   \n",
              "2  https://cdn.sofifa.net/players/224/334/23_60.png   Argentina   \n",
              "3  https://cdn.sofifa.net/players/192/985/23_60.png     Belgium   \n",
              "4  https://cdn.sofifa.net/players/224/232/23_60.png       Italy   \n",
              "\n",
              "                                  Flag  Overall  Potential               Club  \\\n",
              "0  https://cdn.sofifa.net/flags/de.png       87         88  FC Bayern München   \n",
              "1  https://cdn.sofifa.net/flags/pt.png       86         87  Manchester United   \n",
              "2  https://cdn.sofifa.net/flags/ar.png       85         85         Sevilla FC   \n",
              "3  https://cdn.sofifa.net/flags/be.png       91         91    Manchester City   \n",
              "4  https://cdn.sofifa.net/flags/it.png       86         89              Inter   \n",
              "\n",
              "                                 Club Logo  ... Real Face  \\\n",
              "0   https://cdn.sofifa.net/teams/21/30.png  ...       Yes   \n",
              "1   https://cdn.sofifa.net/teams/11/30.png  ...       Yes   \n",
              "2  https://cdn.sofifa.net/teams/481/30.png  ...        No   \n",
              "3   https://cdn.sofifa.net/teams/10/30.png  ...       Yes   \n",
              "4   https://cdn.sofifa.net/teams/44/30.png  ...       Yes   \n",
              "\n",
              "                      Position        Joined Loaned From  \\\n",
              "0  <span class=\"pos pos28\">SUB   Jul 1, 2018         NaN   \n",
              "1  <span class=\"pos pos15\">LCM  Jan 30, 2020         NaN   \n",
              "2    <span class=\"pos pos7\">LB  Sep 14, 2020         NaN   \n",
              "3  <span class=\"pos pos13\">RCM  Aug 30, 2015         NaN   \n",
              "4  <span class=\"pos pos13\">RCM   Sep 1, 2020         NaN   \n",
              "\n",
              "   Contract Valid Until  Height  Weight Release Clause Kit Number  \\\n",
              "0                  2026   189cm    82kg          €157M        8.0   \n",
              "1                  2026   179cm    69kg          €155M        8.0   \n",
              "2                  2024   172cm    69kg         €97.7M       19.0   \n",
              "3                  2025   181cm    70kg        €198.9M       17.0   \n",
              "4                  2026   172cm    68kg        €154.4M       23.0   \n",
              "\n",
              "  Best Overall Rating  \n",
              "0                 NaN  \n",
              "1                 NaN  \n",
              "2                 NaN  \n",
              "3                 NaN  \n",
              "4                 NaN  \n",
              "\n",
              "[5 rows x 29 columns]"
            ],
            "text/html": [
              "\n",
              "  <div id=\"df-0180f252-c01d-466a-aa4d-414552d40bd1\">\n",
              "    <div class=\"colab-df-container\">\n",
              "      <div>\n",
              "<style scoped>\n",
              "    .dataframe tbody tr th:only-of-type {\n",
              "        vertical-align: middle;\n",
              "    }\n",
              "\n",
              "    .dataframe tbody tr th {\n",
              "        vertical-align: top;\n",
              "    }\n",
              "\n",
              "    .dataframe thead th {\n",
              "        text-align: right;\n",
              "    }\n",
              "</style>\n",
              "<table border=\"1\" class=\"dataframe\">\n",
              "  <thead>\n",
              "    <tr style=\"text-align: right;\">\n",
              "      <th></th>\n",
              "      <th>ID</th>\n",
              "      <th>Name</th>\n",
              "      <th>Age</th>\n",
              "      <th>Photo</th>\n",
              "      <th>Nationality</th>\n",
              "      <th>Flag</th>\n",
              "      <th>Overall</th>\n",
              "      <th>Potential</th>\n",
              "      <th>Club</th>\n",
              "      <th>Club Logo</th>\n",
              "      <th>...</th>\n",
              "      <th>Real Face</th>\n",
              "      <th>Position</th>\n",
              "      <th>Joined</th>\n",
              "      <th>Loaned From</th>\n",
              "      <th>Contract Valid Until</th>\n",
              "      <th>Height</th>\n",
              "      <th>Weight</th>\n",
              "      <th>Release Clause</th>\n",
              "      <th>Kit Number</th>\n",
              "      <th>Best Overall Rating</th>\n",
              "    </tr>\n",
              "  </thead>\n",
              "  <tbody>\n",
              "    <tr>\n",
              "      <th>0</th>\n",
              "      <td>209658</td>\n",
              "      <td>L. Goretzka</td>\n",
              "      <td>27</td>\n",
              "      <td>https://cdn.sofifa.net/players/209/658/23_60.png</td>\n",
              "      <td>Germany</td>\n",
              "      <td>https://cdn.sofifa.net/flags/de.png</td>\n",
              "      <td>87</td>\n",
              "      <td>88</td>\n",
              "      <td>FC Bayern München</td>\n",
              "      <td>https://cdn.sofifa.net/teams/21/30.png</td>\n",
              "      <td>...</td>\n",
              "      <td>Yes</td>\n",
              "      <td>&lt;span class=\"pos pos28\"&gt;SUB</td>\n",
              "      <td>Jul 1, 2018</td>\n",
              "      <td>NaN</td>\n",
              "      <td>2026</td>\n",
              "      <td>189cm</td>\n",
              "      <td>82kg</td>\n",
              "      <td>€157M</td>\n",
              "      <td>8.0</td>\n",
              "      <td>NaN</td>\n",
              "    </tr>\n",
              "    <tr>\n",
              "      <th>1</th>\n",
              "      <td>212198</td>\n",
              "      <td>Bruno Fernandes</td>\n",
              "      <td>27</td>\n",
              "      <td>https://cdn.sofifa.net/players/212/198/23_60.png</td>\n",
              "      <td>Portugal</td>\n",
              "      <td>https://cdn.sofifa.net/flags/pt.png</td>\n",
              "      <td>86</td>\n",
              "      <td>87</td>\n",
              "      <td>Manchester United</td>\n",
              "      <td>https://cdn.sofifa.net/teams/11/30.png</td>\n",
              "      <td>...</td>\n",
              "      <td>Yes</td>\n",
              "      <td>&lt;span class=\"pos pos15\"&gt;LCM</td>\n",
              "      <td>Jan 30, 2020</td>\n",
              "      <td>NaN</td>\n",
              "      <td>2026</td>\n",
              "      <td>179cm</td>\n",
              "      <td>69kg</td>\n",
              "      <td>€155M</td>\n",
              "      <td>8.0</td>\n",
              "      <td>NaN</td>\n",
              "    </tr>\n",
              "    <tr>\n",
              "      <th>2</th>\n",
              "      <td>224334</td>\n",
              "      <td>M. Acuña</td>\n",
              "      <td>30</td>\n",
              "      <td>https://cdn.sofifa.net/players/224/334/23_60.png</td>\n",
              "      <td>Argentina</td>\n",
              "      <td>https://cdn.sofifa.net/flags/ar.png</td>\n",
              "      <td>85</td>\n",
              "      <td>85</td>\n",
              "      <td>Sevilla FC</td>\n",
              "      <td>https://cdn.sofifa.net/teams/481/30.png</td>\n",
              "      <td>...</td>\n",
              "      <td>No</td>\n",
              "      <td>&lt;span class=\"pos pos7\"&gt;LB</td>\n",
              "      <td>Sep 14, 2020</td>\n",
              "      <td>NaN</td>\n",
              "      <td>2024</td>\n",
              "      <td>172cm</td>\n",
              "      <td>69kg</td>\n",
              "      <td>€97.7M</td>\n",
              "      <td>19.0</td>\n",
              "      <td>NaN</td>\n",
              "    </tr>\n",
              "    <tr>\n",
              "      <th>3</th>\n",
              "      <td>192985</td>\n",
              "      <td>K. De Bruyne</td>\n",
              "      <td>31</td>\n",
              "      <td>https://cdn.sofifa.net/players/192/985/23_60.png</td>\n",
              "      <td>Belgium</td>\n",
              "      <td>https://cdn.sofifa.net/flags/be.png</td>\n",
              "      <td>91</td>\n",
              "      <td>91</td>\n",
              "      <td>Manchester City</td>\n",
              "      <td>https://cdn.sofifa.net/teams/10/30.png</td>\n",
              "      <td>...</td>\n",
              "      <td>Yes</td>\n",
              "      <td>&lt;span class=\"pos pos13\"&gt;RCM</td>\n",
              "      <td>Aug 30, 2015</td>\n",
              "      <td>NaN</td>\n",
              "      <td>2025</td>\n",
              "      <td>181cm</td>\n",
              "      <td>70kg</td>\n",
              "      <td>€198.9M</td>\n",
              "      <td>17.0</td>\n",
              "      <td>NaN</td>\n",
              "    </tr>\n",
              "    <tr>\n",
              "      <th>4</th>\n",
              "      <td>224232</td>\n",
              "      <td>N. Barella</td>\n",
              "      <td>25</td>\n",
              "      <td>https://cdn.sofifa.net/players/224/232/23_60.png</td>\n",
              "      <td>Italy</td>\n",
              "      <td>https://cdn.sofifa.net/flags/it.png</td>\n",
              "      <td>86</td>\n",
              "      <td>89</td>\n",
              "      <td>Inter</td>\n",
              "      <td>https://cdn.sofifa.net/teams/44/30.png</td>\n",
              "      <td>...</td>\n",
              "      <td>Yes</td>\n",
              "      <td>&lt;span class=\"pos pos13\"&gt;RCM</td>\n",
              "      <td>Sep 1, 2020</td>\n",
              "      <td>NaN</td>\n",
              "      <td>2026</td>\n",
              "      <td>172cm</td>\n",
              "      <td>68kg</td>\n",
              "      <td>€154.4M</td>\n",
              "      <td>23.0</td>\n",
              "      <td>NaN</td>\n",
              "    </tr>\n",
              "  </tbody>\n",
              "</table>\n",
              "<p>5 rows × 29 columns</p>\n",
              "</div>\n",
              "      <button class=\"colab-df-convert\" onclick=\"convertToInteractive('df-0180f252-c01d-466a-aa4d-414552d40bd1')\"\n",
              "              title=\"Convert this dataframe to an interactive table.\"\n",
              "              style=\"display:none;\">\n",
              "        \n",
              "  <svg xmlns=\"http://www.w3.org/2000/svg\" height=\"24px\"viewBox=\"0 0 24 24\"\n",
              "       width=\"24px\">\n",
              "    <path d=\"M0 0h24v24H0V0z\" fill=\"none\"/>\n",
              "    <path d=\"M18.56 5.44l.94 2.06.94-2.06 2.06-.94-2.06-.94-.94-2.06-.94 2.06-2.06.94zm-11 1L8.5 8.5l.94-2.06 2.06-.94-2.06-.94L8.5 2.5l-.94 2.06-2.06.94zm10 10l.94 2.06.94-2.06 2.06-.94-2.06-.94-.94-2.06-.94 2.06-2.06.94z\"/><path d=\"M17.41 7.96l-1.37-1.37c-.4-.4-.92-.59-1.43-.59-.52 0-1.04.2-1.43.59L10.3 9.45l-7.72 7.72c-.78.78-.78 2.05 0 2.83L4 21.41c.39.39.9.59 1.41.59.51 0 1.02-.2 1.41-.59l7.78-7.78 2.81-2.81c.8-.78.8-2.07 0-2.86zM5.41 20L4 18.59l7.72-7.72 1.47 1.35L5.41 20z\"/>\n",
              "  </svg>\n",
              "      </button>\n",
              "      \n",
              "  <style>\n",
              "    .colab-df-container {\n",
              "      display:flex;\n",
              "      flex-wrap:wrap;\n",
              "      gap: 12px;\n",
              "    }\n",
              "\n",
              "    .colab-df-convert {\n",
              "      background-color: #E8F0FE;\n",
              "      border: none;\n",
              "      border-radius: 50%;\n",
              "      cursor: pointer;\n",
              "      display: none;\n",
              "      fill: #1967D2;\n",
              "      height: 32px;\n",
              "      padding: 0 0 0 0;\n",
              "      width: 32px;\n",
              "    }\n",
              "\n",
              "    .colab-df-convert:hover {\n",
              "      background-color: #E2EBFA;\n",
              "      box-shadow: 0px 1px 2px rgba(60, 64, 67, 0.3), 0px 1px 3px 1px rgba(60, 64, 67, 0.15);\n",
              "      fill: #174EA6;\n",
              "    }\n",
              "\n",
              "    [theme=dark] .colab-df-convert {\n",
              "      background-color: #3B4455;\n",
              "      fill: #D2E3FC;\n",
              "    }\n",
              "\n",
              "    [theme=dark] .colab-df-convert:hover {\n",
              "      background-color: #434B5C;\n",
              "      box-shadow: 0px 1px 3px 1px rgba(0, 0, 0, 0.15);\n",
              "      filter: drop-shadow(0px 1px 2px rgba(0, 0, 0, 0.3));\n",
              "      fill: #FFFFFF;\n",
              "    }\n",
              "  </style>\n",
              "\n",
              "      <script>\n",
              "        const buttonEl =\n",
              "          document.querySelector('#df-0180f252-c01d-466a-aa4d-414552d40bd1 button.colab-df-convert');\n",
              "        buttonEl.style.display =\n",
              "          google.colab.kernel.accessAllowed ? 'block' : 'none';\n",
              "\n",
              "        async function convertToInteractive(key) {\n",
              "          const element = document.querySelector('#df-0180f252-c01d-466a-aa4d-414552d40bd1');\n",
              "          const dataTable =\n",
              "            await google.colab.kernel.invokeFunction('convertToInteractive',\n",
              "                                                     [key], {});\n",
              "          if (!dataTable) return;\n",
              "\n",
              "          const docLinkHtml = 'Like what you see? Visit the ' +\n",
              "            '<a target=\"_blank\" href=https://colab.research.google.com/notebooks/data_table.ipynb>data table notebook</a>'\n",
              "            + ' to learn more about interactive tables.';\n",
              "          element.innerHTML = '';\n",
              "          dataTable['output_type'] = 'display_data';\n",
              "          await google.colab.output.renderOutput(dataTable, element);\n",
              "          const docLink = document.createElement('div');\n",
              "          docLink.innerHTML = docLinkHtml;\n",
              "          element.appendChild(docLink);\n",
              "        }\n",
              "      </script>\n",
              "    </div>\n",
              "  </div>\n",
              "  "
            ]
          },
          "metadata": {},
          "execution_count": 11
        }
      ]
    },
    {
      "cell_type": "code",
      "source": [
        "data.tail()"
      ],
      "metadata": {
        "colab": {
          "base_uri": "https://localhost:8080/",
          "height": 508
        },
        "id": "a4FmFc5-q3m8",
        "outputId": "05759dd0-61c7-4812-a68a-313a0d7eae95"
      },
      "execution_count": 12,
      "outputs": [
        {
          "output_type": "execute_result",
          "data": {
            "text/plain": [
              "           ID             Name  Age  \\\n",
              "17655  269526    Deng Xiongtao   19   \n",
              "17656  267946   22 Lim Jun Sub   17   \n",
              "17657  270567         A. Demir   25   \n",
              "17658  256624     21 S. Czajor   18   \n",
              "17659  256376  21 F. Jakobsson   20   \n",
              "\n",
              "                                                  Photo     Nationality  \\\n",
              "17655  https://cdn.sofifa.net/players/269/526/23_60.png        China PR   \n",
              "17656  https://cdn.sofifa.net/players/267/946/22_60.png  Korea Republic   \n",
              "17657  https://cdn.sofifa.net/players/270/567/23_60.png          Turkey   \n",
              "17658  https://cdn.sofifa.net/players/256/624/21_60.png          Poland   \n",
              "17659  https://cdn.sofifa.net/players/256/376/21_60.png          Sweden   \n",
              "\n",
              "                                      Flag  Overall  Potential  \\\n",
              "17655  https://cdn.sofifa.net/flags/cn.png       48         61   \n",
              "17656  https://cdn.sofifa.net/flags/kr.png       48         64   \n",
              "17657  https://cdn.sofifa.net/flags/tr.png       51         56   \n",
              "17658  https://cdn.sofifa.net/flags/pl.png       50         65   \n",
              "17659  https://cdn.sofifa.net/flags/se.png       50         61   \n",
              "\n",
              "                 Club                                   Club Logo  ...  \\\n",
              "17655   Meizhou Hakka  https://cdn.sofifa.net/teams/114628/30.png  ...   \n",
              "17656  Jeju United FC    https://cdn.sofifa.net/teams/1478/30.png  ...   \n",
              "17657    Ümraniyespor  https://cdn.sofifa.net/teams/113796/30.png  ...   \n",
              "17658  Fleetwood Town  https://cdn.sofifa.net/teams/112260/30.png  ...   \n",
              "17659  IFK Norrköping     https://cdn.sofifa.net/teams/702/30.png  ...   \n",
              "\n",
              "      Real Face                     Position        Joined Loaned From  \\\n",
              "17655        No  <span class=\"pos pos29\">RES  Apr 11, 2022         NaN   \n",
              "17656        No  <span class=\"pos pos29\">RES   Jan 1, 2022         NaN   \n",
              "17657        No  <span class=\"pos pos29\">RES   Jun 6, 2021         NaN   \n",
              "17658        No  <span class=\"pos pos29\">RES   Jan 1, 2020         NaN   \n",
              "17659        No  <span class=\"pos pos29\">RES   Jan 8, 2020         NaN   \n",
              "\n",
              "       Contract Valid Until  Height  Weight Release Clause Kit Number  \\\n",
              "17655                  2027   190cm    78kg          €218K       35.0   \n",
              "17656                  2026   195cm    84kg          €188K       21.0   \n",
              "17657                  2023   190cm    82kg          €142K       12.0   \n",
              "17658                  2021   187cm    79kg          €214K       40.0   \n",
              "17659                  2021   186cm    78kg          €131K       30.0   \n",
              "\n",
              "      Best Overall Rating  \n",
              "17655                 NaN  \n",
              "17656                 NaN  \n",
              "17657                 NaN  \n",
              "17658                 NaN  \n",
              "17659                 NaN  \n",
              "\n",
              "[5 rows x 29 columns]"
            ],
            "text/html": [
              "\n",
              "  <div id=\"df-4dfcabfa-23f6-4b8c-bfcf-a9bd27c1497b\">\n",
              "    <div class=\"colab-df-container\">\n",
              "      <div>\n",
              "<style scoped>\n",
              "    .dataframe tbody tr th:only-of-type {\n",
              "        vertical-align: middle;\n",
              "    }\n",
              "\n",
              "    .dataframe tbody tr th {\n",
              "        vertical-align: top;\n",
              "    }\n",
              "\n",
              "    .dataframe thead th {\n",
              "        text-align: right;\n",
              "    }\n",
              "</style>\n",
              "<table border=\"1\" class=\"dataframe\">\n",
              "  <thead>\n",
              "    <tr style=\"text-align: right;\">\n",
              "      <th></th>\n",
              "      <th>ID</th>\n",
              "      <th>Name</th>\n",
              "      <th>Age</th>\n",
              "      <th>Photo</th>\n",
              "      <th>Nationality</th>\n",
              "      <th>Flag</th>\n",
              "      <th>Overall</th>\n",
              "      <th>Potential</th>\n",
              "      <th>Club</th>\n",
              "      <th>Club Logo</th>\n",
              "      <th>...</th>\n",
              "      <th>Real Face</th>\n",
              "      <th>Position</th>\n",
              "      <th>Joined</th>\n",
              "      <th>Loaned From</th>\n",
              "      <th>Contract Valid Until</th>\n",
              "      <th>Height</th>\n",
              "      <th>Weight</th>\n",
              "      <th>Release Clause</th>\n",
              "      <th>Kit Number</th>\n",
              "      <th>Best Overall Rating</th>\n",
              "    </tr>\n",
              "  </thead>\n",
              "  <tbody>\n",
              "    <tr>\n",
              "      <th>17655</th>\n",
              "      <td>269526</td>\n",
              "      <td>Deng Xiongtao</td>\n",
              "      <td>19</td>\n",
              "      <td>https://cdn.sofifa.net/players/269/526/23_60.png</td>\n",
              "      <td>China PR</td>\n",
              "      <td>https://cdn.sofifa.net/flags/cn.png</td>\n",
              "      <td>48</td>\n",
              "      <td>61</td>\n",
              "      <td>Meizhou Hakka</td>\n",
              "      <td>https://cdn.sofifa.net/teams/114628/30.png</td>\n",
              "      <td>...</td>\n",
              "      <td>No</td>\n",
              "      <td>&lt;span class=\"pos pos29\"&gt;RES</td>\n",
              "      <td>Apr 11, 2022</td>\n",
              "      <td>NaN</td>\n",
              "      <td>2027</td>\n",
              "      <td>190cm</td>\n",
              "      <td>78kg</td>\n",
              "      <td>€218K</td>\n",
              "      <td>35.0</td>\n",
              "      <td>NaN</td>\n",
              "    </tr>\n",
              "    <tr>\n",
              "      <th>17656</th>\n",
              "      <td>267946</td>\n",
              "      <td>22 Lim Jun Sub</td>\n",
              "      <td>17</td>\n",
              "      <td>https://cdn.sofifa.net/players/267/946/22_60.png</td>\n",
              "      <td>Korea Republic</td>\n",
              "      <td>https://cdn.sofifa.net/flags/kr.png</td>\n",
              "      <td>48</td>\n",
              "      <td>64</td>\n",
              "      <td>Jeju United FC</td>\n",
              "      <td>https://cdn.sofifa.net/teams/1478/30.png</td>\n",
              "      <td>...</td>\n",
              "      <td>No</td>\n",
              "      <td>&lt;span class=\"pos pos29\"&gt;RES</td>\n",
              "      <td>Jan 1, 2022</td>\n",
              "      <td>NaN</td>\n",
              "      <td>2026</td>\n",
              "      <td>195cm</td>\n",
              "      <td>84kg</td>\n",
              "      <td>€188K</td>\n",
              "      <td>21.0</td>\n",
              "      <td>NaN</td>\n",
              "    </tr>\n",
              "    <tr>\n",
              "      <th>17657</th>\n",
              "      <td>270567</td>\n",
              "      <td>A. Demir</td>\n",
              "      <td>25</td>\n",
              "      <td>https://cdn.sofifa.net/players/270/567/23_60.png</td>\n",
              "      <td>Turkey</td>\n",
              "      <td>https://cdn.sofifa.net/flags/tr.png</td>\n",
              "      <td>51</td>\n",
              "      <td>56</td>\n",
              "      <td>Ümraniyespor</td>\n",
              "      <td>https://cdn.sofifa.net/teams/113796/30.png</td>\n",
              "      <td>...</td>\n",
              "      <td>No</td>\n",
              "      <td>&lt;span class=\"pos pos29\"&gt;RES</td>\n",
              "      <td>Jun 6, 2021</td>\n",
              "      <td>NaN</td>\n",
              "      <td>2023</td>\n",
              "      <td>190cm</td>\n",
              "      <td>82kg</td>\n",
              "      <td>€142K</td>\n",
              "      <td>12.0</td>\n",
              "      <td>NaN</td>\n",
              "    </tr>\n",
              "    <tr>\n",
              "      <th>17658</th>\n",
              "      <td>256624</td>\n",
              "      <td>21 S. Czajor</td>\n",
              "      <td>18</td>\n",
              "      <td>https://cdn.sofifa.net/players/256/624/21_60.png</td>\n",
              "      <td>Poland</td>\n",
              "      <td>https://cdn.sofifa.net/flags/pl.png</td>\n",
              "      <td>50</td>\n",
              "      <td>65</td>\n",
              "      <td>Fleetwood Town</td>\n",
              "      <td>https://cdn.sofifa.net/teams/112260/30.png</td>\n",
              "      <td>...</td>\n",
              "      <td>No</td>\n",
              "      <td>&lt;span class=\"pos pos29\"&gt;RES</td>\n",
              "      <td>Jan 1, 2020</td>\n",
              "      <td>NaN</td>\n",
              "      <td>2021</td>\n",
              "      <td>187cm</td>\n",
              "      <td>79kg</td>\n",
              "      <td>€214K</td>\n",
              "      <td>40.0</td>\n",
              "      <td>NaN</td>\n",
              "    </tr>\n",
              "    <tr>\n",
              "      <th>17659</th>\n",
              "      <td>256376</td>\n",
              "      <td>21 F. Jakobsson</td>\n",
              "      <td>20</td>\n",
              "      <td>https://cdn.sofifa.net/players/256/376/21_60.png</td>\n",
              "      <td>Sweden</td>\n",
              "      <td>https://cdn.sofifa.net/flags/se.png</td>\n",
              "      <td>50</td>\n",
              "      <td>61</td>\n",
              "      <td>IFK Norrköping</td>\n",
              "      <td>https://cdn.sofifa.net/teams/702/30.png</td>\n",
              "      <td>...</td>\n",
              "      <td>No</td>\n",
              "      <td>&lt;span class=\"pos pos29\"&gt;RES</td>\n",
              "      <td>Jan 8, 2020</td>\n",
              "      <td>NaN</td>\n",
              "      <td>2021</td>\n",
              "      <td>186cm</td>\n",
              "      <td>78kg</td>\n",
              "      <td>€131K</td>\n",
              "      <td>30.0</td>\n",
              "      <td>NaN</td>\n",
              "    </tr>\n",
              "  </tbody>\n",
              "</table>\n",
              "<p>5 rows × 29 columns</p>\n",
              "</div>\n",
              "      <button class=\"colab-df-convert\" onclick=\"convertToInteractive('df-4dfcabfa-23f6-4b8c-bfcf-a9bd27c1497b')\"\n",
              "              title=\"Convert this dataframe to an interactive table.\"\n",
              "              style=\"display:none;\">\n",
              "        \n",
              "  <svg xmlns=\"http://www.w3.org/2000/svg\" height=\"24px\"viewBox=\"0 0 24 24\"\n",
              "       width=\"24px\">\n",
              "    <path d=\"M0 0h24v24H0V0z\" fill=\"none\"/>\n",
              "    <path d=\"M18.56 5.44l.94 2.06.94-2.06 2.06-.94-2.06-.94-.94-2.06-.94 2.06-2.06.94zm-11 1L8.5 8.5l.94-2.06 2.06-.94-2.06-.94L8.5 2.5l-.94 2.06-2.06.94zm10 10l.94 2.06.94-2.06 2.06-.94-2.06-.94-.94-2.06-.94 2.06-2.06.94z\"/><path d=\"M17.41 7.96l-1.37-1.37c-.4-.4-.92-.59-1.43-.59-.52 0-1.04.2-1.43.59L10.3 9.45l-7.72 7.72c-.78.78-.78 2.05 0 2.83L4 21.41c.39.39.9.59 1.41.59.51 0 1.02-.2 1.41-.59l7.78-7.78 2.81-2.81c.8-.78.8-2.07 0-2.86zM5.41 20L4 18.59l7.72-7.72 1.47 1.35L5.41 20z\"/>\n",
              "  </svg>\n",
              "      </button>\n",
              "      \n",
              "  <style>\n",
              "    .colab-df-container {\n",
              "      display:flex;\n",
              "      flex-wrap:wrap;\n",
              "      gap: 12px;\n",
              "    }\n",
              "\n",
              "    .colab-df-convert {\n",
              "      background-color: #E8F0FE;\n",
              "      border: none;\n",
              "      border-radius: 50%;\n",
              "      cursor: pointer;\n",
              "      display: none;\n",
              "      fill: #1967D2;\n",
              "      height: 32px;\n",
              "      padding: 0 0 0 0;\n",
              "      width: 32px;\n",
              "    }\n",
              "\n",
              "    .colab-df-convert:hover {\n",
              "      background-color: #E2EBFA;\n",
              "      box-shadow: 0px 1px 2px rgba(60, 64, 67, 0.3), 0px 1px 3px 1px rgba(60, 64, 67, 0.15);\n",
              "      fill: #174EA6;\n",
              "    }\n",
              "\n",
              "    [theme=dark] .colab-df-convert {\n",
              "      background-color: #3B4455;\n",
              "      fill: #D2E3FC;\n",
              "    }\n",
              "\n",
              "    [theme=dark] .colab-df-convert:hover {\n",
              "      background-color: #434B5C;\n",
              "      box-shadow: 0px 1px 3px 1px rgba(0, 0, 0, 0.15);\n",
              "      filter: drop-shadow(0px 1px 2px rgba(0, 0, 0, 0.3));\n",
              "      fill: #FFFFFF;\n",
              "    }\n",
              "  </style>\n",
              "\n",
              "      <script>\n",
              "        const buttonEl =\n",
              "          document.querySelector('#df-4dfcabfa-23f6-4b8c-bfcf-a9bd27c1497b button.colab-df-convert');\n",
              "        buttonEl.style.display =\n",
              "          google.colab.kernel.accessAllowed ? 'block' : 'none';\n",
              "\n",
              "        async function convertToInteractive(key) {\n",
              "          const element = document.querySelector('#df-4dfcabfa-23f6-4b8c-bfcf-a9bd27c1497b');\n",
              "          const dataTable =\n",
              "            await google.colab.kernel.invokeFunction('convertToInteractive',\n",
              "                                                     [key], {});\n",
              "          if (!dataTable) return;\n",
              "\n",
              "          const docLinkHtml = 'Like what you see? Visit the ' +\n",
              "            '<a target=\"_blank\" href=https://colab.research.google.com/notebooks/data_table.ipynb>data table notebook</a>'\n",
              "            + ' to learn more about interactive tables.';\n",
              "          element.innerHTML = '';\n",
              "          dataTable['output_type'] = 'display_data';\n",
              "          await google.colab.output.renderOutput(dataTable, element);\n",
              "          const docLink = document.createElement('div');\n",
              "          docLink.innerHTML = docLinkHtml;\n",
              "          element.appendChild(docLink);\n",
              "        }\n",
              "      </script>\n",
              "    </div>\n",
              "  </div>\n",
              "  "
            ]
          },
          "metadata": {},
          "execution_count": 12
        }
      ]
    },
    {
      "cell_type": "code",
      "source": [
        "data.shape"
      ],
      "metadata": {
        "colab": {
          "base_uri": "https://localhost:8080/"
        },
        "id": "ZkMcnSVTq7Hu",
        "outputId": "00e77235-ccd6-426e-9caa-03aa352c97da"
      },
      "execution_count": 13,
      "outputs": [
        {
          "output_type": "execute_result",
          "data": {
            "text/plain": [
              "(17660, 29)"
            ]
          },
          "metadata": {},
          "execution_count": 13
        }
      ]
    },
    {
      "cell_type": "code",
      "source": [
        "data.dtypes"
      ],
      "metadata": {
        "colab": {
          "base_uri": "https://localhost:8080/"
        },
        "id": "-TzAUU25q997",
        "outputId": "2e1c0dd2-c7ab-49a8-9d31-1677c79b2506"
      },
      "execution_count": 14,
      "outputs": [
        {
          "output_type": "execute_result",
          "data": {
            "text/plain": [
              "ID                            int64\n",
              "Name                         object\n",
              "Age                           int64\n",
              "Photo                        object\n",
              "Nationality                  object\n",
              "Flag                         object\n",
              "Overall                       int64\n",
              "Potential                     int64\n",
              "Club                         object\n",
              "Club Logo                    object\n",
              "Value                        object\n",
              "Wage                         object\n",
              "Special                       int64\n",
              "Preferred Foot               object\n",
              "International Reputation    float64\n",
              "Weak Foot                   float64\n",
              "Skill Moves                 float64\n",
              "Work Rate                    object\n",
              "Body Type                    object\n",
              "Real Face                    object\n",
              "Position                     object\n",
              "Joined                       object\n",
              "Loaned From                  object\n",
              "Contract Valid Until         object\n",
              "Height                       object\n",
              "Weight                       object\n",
              "Release Clause               object\n",
              "Kit Number                  float64\n",
              "Best Overall Rating          object\n",
              "dtype: object"
            ]
          },
          "metadata": {},
          "execution_count": 14
        }
      ]
    },
    {
      "cell_type": "code",
      "source": [
        "data.columns"
      ],
      "metadata": {
        "colab": {
          "base_uri": "https://localhost:8080/"
        },
        "id": "qyePC9Duq__q",
        "outputId": "d37d9927-2611-489d-e4fd-70de69fcca0e"
      },
      "execution_count": 15,
      "outputs": [
        {
          "output_type": "execute_result",
          "data": {
            "text/plain": [
              "Index(['ID', 'Name', 'Age', 'Photo', 'Nationality', 'Flag', 'Overall',\n",
              "       'Potential', 'Club', 'Club Logo', 'Value', 'Wage', 'Special',\n",
              "       'Preferred Foot', 'International Reputation', 'Weak Foot',\n",
              "       'Skill Moves', 'Work Rate', 'Body Type', 'Real Face', 'Position',\n",
              "       'Joined', 'Loaned From', 'Contract Valid Until', 'Height', 'Weight',\n",
              "       'Release Clause', 'Kit Number', 'Best Overall Rating'],\n",
              "      dtype='object')"
            ]
          },
          "metadata": {},
          "execution_count": 15
        }
      ]
    },
    {
      "cell_type": "code",
      "source": [
        "data.info()"
      ],
      "metadata": {
        "colab": {
          "base_uri": "https://localhost:8080/"
        },
        "id": "GNhvr897rCay",
        "outputId": "93f03c51-1642-4dfd-e5ba-90d5f7f80182"
      },
      "execution_count": 16,
      "outputs": [
        {
          "output_type": "stream",
          "name": "stdout",
          "text": [
            "<class 'pandas.core.frame.DataFrame'>\n",
            "RangeIndex: 17660 entries, 0 to 17659\n",
            "Data columns (total 29 columns):\n",
            " #   Column                    Non-Null Count  Dtype  \n",
            "---  ------                    --------------  -----  \n",
            " 0   ID                        17660 non-null  int64  \n",
            " 1   Name                      17660 non-null  object \n",
            " 2   Age                       17660 non-null  int64  \n",
            " 3   Photo                     17660 non-null  object \n",
            " 4   Nationality               17660 non-null  object \n",
            " 5   Flag                      17660 non-null  object \n",
            " 6   Overall                   17660 non-null  int64  \n",
            " 7   Potential                 17660 non-null  int64  \n",
            " 8   Club                      17449 non-null  object \n",
            " 9   Club Logo                 17660 non-null  object \n",
            " 10  Value                     17660 non-null  object \n",
            " 11  Wage                      17660 non-null  object \n",
            " 12  Special                   17660 non-null  int64  \n",
            " 13  Preferred Foot            17660 non-null  object \n",
            " 14  International Reputation  17660 non-null  float64\n",
            " 15  Weak Foot                 17660 non-null  float64\n",
            " 16  Skill Moves               17660 non-null  float64\n",
            " 17  Work Rate                 17660 non-null  object \n",
            " 18  Body Type                 17622 non-null  object \n",
            " 19  Real Face                 17622 non-null  object \n",
            " 20  Position                  17625 non-null  object \n",
            " 21  Joined                    16562 non-null  object \n",
            " 22  Loaned From               694 non-null    object \n",
            " 23  Contract Valid Until      17299 non-null  object \n",
            " 24  Height                    17660 non-null  object \n",
            " 25  Weight                    17660 non-null  object \n",
            " 26  Release Clause            16509 non-null  object \n",
            " 27  Kit Number                17625 non-null  float64\n",
            " 28  Best Overall Rating       21 non-null     object \n",
            "dtypes: float64(4), int64(5), object(20)\n",
            "memory usage: 3.9+ MB\n"
          ]
        }
      ]
    },
    {
      "cell_type": "code",
      "source": [
        "data.describe()"
      ],
      "metadata": {
        "colab": {
          "base_uri": "https://localhost:8080/",
          "height": 300
        },
        "id": "2ESk3C3frEg3",
        "outputId": "46c4638c-cef3-402f-d085-d8b83266f0ec"
      },
      "execution_count": 17,
      "outputs": [
        {
          "output_type": "execute_result",
          "data": {
            "text/plain": [
              "                  ID           Age       Overall     Potential       Special  \\\n",
              "count   17660.000000  17660.000000  17660.000000  17660.000000  17660.000000   \n",
              "mean   246319.424462     23.127746     63.369592     70.981200   1537.915855   \n",
              "std     31487.892861      4.639821      8.036268      6.529836    285.893809   \n",
              "min        16.000000     15.000000     43.000000     42.000000    749.000000   \n",
              "25%    240732.500000     20.000000     58.000000     67.000000   1387.000000   \n",
              "50%    257041.000000     22.000000     63.000000     71.000000   1548.000000   \n",
              "75%    263027.500000     26.000000     69.000000     75.000000   1727.000000   \n",
              "max    271340.000000     54.000000     91.000000     95.000000   2312.000000   \n",
              "\n",
              "       International Reputation     Weak Foot   Skill Moves    Kit Number  \n",
              "count              17660.000000  17660.000000  17660.000000  17625.000000  \n",
              "mean                   1.106285      2.900340      2.297169     25.037957  \n",
              "std                    0.407021      0.663523      0.754264     19.154116  \n",
              "min                    1.000000      1.000000      1.000000      1.000000  \n",
              "25%                    1.000000      3.000000      2.000000     11.000000  \n",
              "50%                    1.000000      3.000000      2.000000     22.000000  \n",
              "75%                    1.000000      3.000000      3.000000     32.000000  \n",
              "max                    5.000000      5.000000      5.000000     99.000000  "
            ],
            "text/html": [
              "\n",
              "  <div id=\"df-ff441f59-04a9-4da9-b7cb-b681bf5fff83\">\n",
              "    <div class=\"colab-df-container\">\n",
              "      <div>\n",
              "<style scoped>\n",
              "    .dataframe tbody tr th:only-of-type {\n",
              "        vertical-align: middle;\n",
              "    }\n",
              "\n",
              "    .dataframe tbody tr th {\n",
              "        vertical-align: top;\n",
              "    }\n",
              "\n",
              "    .dataframe thead th {\n",
              "        text-align: right;\n",
              "    }\n",
              "</style>\n",
              "<table border=\"1\" class=\"dataframe\">\n",
              "  <thead>\n",
              "    <tr style=\"text-align: right;\">\n",
              "      <th></th>\n",
              "      <th>ID</th>\n",
              "      <th>Age</th>\n",
              "      <th>Overall</th>\n",
              "      <th>Potential</th>\n",
              "      <th>Special</th>\n",
              "      <th>International Reputation</th>\n",
              "      <th>Weak Foot</th>\n",
              "      <th>Skill Moves</th>\n",
              "      <th>Kit Number</th>\n",
              "    </tr>\n",
              "  </thead>\n",
              "  <tbody>\n",
              "    <tr>\n",
              "      <th>count</th>\n",
              "      <td>17660.000000</td>\n",
              "      <td>17660.000000</td>\n",
              "      <td>17660.000000</td>\n",
              "      <td>17660.000000</td>\n",
              "      <td>17660.000000</td>\n",
              "      <td>17660.000000</td>\n",
              "      <td>17660.000000</td>\n",
              "      <td>17660.000000</td>\n",
              "      <td>17625.000000</td>\n",
              "    </tr>\n",
              "    <tr>\n",
              "      <th>mean</th>\n",
              "      <td>246319.424462</td>\n",
              "      <td>23.127746</td>\n",
              "      <td>63.369592</td>\n",
              "      <td>70.981200</td>\n",
              "      <td>1537.915855</td>\n",
              "      <td>1.106285</td>\n",
              "      <td>2.900340</td>\n",
              "      <td>2.297169</td>\n",
              "      <td>25.037957</td>\n",
              "    </tr>\n",
              "    <tr>\n",
              "      <th>std</th>\n",
              "      <td>31487.892861</td>\n",
              "      <td>4.639821</td>\n",
              "      <td>8.036268</td>\n",
              "      <td>6.529836</td>\n",
              "      <td>285.893809</td>\n",
              "      <td>0.407021</td>\n",
              "      <td>0.663523</td>\n",
              "      <td>0.754264</td>\n",
              "      <td>19.154116</td>\n",
              "    </tr>\n",
              "    <tr>\n",
              "      <th>min</th>\n",
              "      <td>16.000000</td>\n",
              "      <td>15.000000</td>\n",
              "      <td>43.000000</td>\n",
              "      <td>42.000000</td>\n",
              "      <td>749.000000</td>\n",
              "      <td>1.000000</td>\n",
              "      <td>1.000000</td>\n",
              "      <td>1.000000</td>\n",
              "      <td>1.000000</td>\n",
              "    </tr>\n",
              "    <tr>\n",
              "      <th>25%</th>\n",
              "      <td>240732.500000</td>\n",
              "      <td>20.000000</td>\n",
              "      <td>58.000000</td>\n",
              "      <td>67.000000</td>\n",
              "      <td>1387.000000</td>\n",
              "      <td>1.000000</td>\n",
              "      <td>3.000000</td>\n",
              "      <td>2.000000</td>\n",
              "      <td>11.000000</td>\n",
              "    </tr>\n",
              "    <tr>\n",
              "      <th>50%</th>\n",
              "      <td>257041.000000</td>\n",
              "      <td>22.000000</td>\n",
              "      <td>63.000000</td>\n",
              "      <td>71.000000</td>\n",
              "      <td>1548.000000</td>\n",
              "      <td>1.000000</td>\n",
              "      <td>3.000000</td>\n",
              "      <td>2.000000</td>\n",
              "      <td>22.000000</td>\n",
              "    </tr>\n",
              "    <tr>\n",
              "      <th>75%</th>\n",
              "      <td>263027.500000</td>\n",
              "      <td>26.000000</td>\n",
              "      <td>69.000000</td>\n",
              "      <td>75.000000</td>\n",
              "      <td>1727.000000</td>\n",
              "      <td>1.000000</td>\n",
              "      <td>3.000000</td>\n",
              "      <td>3.000000</td>\n",
              "      <td>32.000000</td>\n",
              "    </tr>\n",
              "    <tr>\n",
              "      <th>max</th>\n",
              "      <td>271340.000000</td>\n",
              "      <td>54.000000</td>\n",
              "      <td>91.000000</td>\n",
              "      <td>95.000000</td>\n",
              "      <td>2312.000000</td>\n",
              "      <td>5.000000</td>\n",
              "      <td>5.000000</td>\n",
              "      <td>5.000000</td>\n",
              "      <td>99.000000</td>\n",
              "    </tr>\n",
              "  </tbody>\n",
              "</table>\n",
              "</div>\n",
              "      <button class=\"colab-df-convert\" onclick=\"convertToInteractive('df-ff441f59-04a9-4da9-b7cb-b681bf5fff83')\"\n",
              "              title=\"Convert this dataframe to an interactive table.\"\n",
              "              style=\"display:none;\">\n",
              "        \n",
              "  <svg xmlns=\"http://www.w3.org/2000/svg\" height=\"24px\"viewBox=\"0 0 24 24\"\n",
              "       width=\"24px\">\n",
              "    <path d=\"M0 0h24v24H0V0z\" fill=\"none\"/>\n",
              "    <path d=\"M18.56 5.44l.94 2.06.94-2.06 2.06-.94-2.06-.94-.94-2.06-.94 2.06-2.06.94zm-11 1L8.5 8.5l.94-2.06 2.06-.94-2.06-.94L8.5 2.5l-.94 2.06-2.06.94zm10 10l.94 2.06.94-2.06 2.06-.94-2.06-.94-.94-2.06-.94 2.06-2.06.94z\"/><path d=\"M17.41 7.96l-1.37-1.37c-.4-.4-.92-.59-1.43-.59-.52 0-1.04.2-1.43.59L10.3 9.45l-7.72 7.72c-.78.78-.78 2.05 0 2.83L4 21.41c.39.39.9.59 1.41.59.51 0 1.02-.2 1.41-.59l7.78-7.78 2.81-2.81c.8-.78.8-2.07 0-2.86zM5.41 20L4 18.59l7.72-7.72 1.47 1.35L5.41 20z\"/>\n",
              "  </svg>\n",
              "      </button>\n",
              "      \n",
              "  <style>\n",
              "    .colab-df-container {\n",
              "      display:flex;\n",
              "      flex-wrap:wrap;\n",
              "      gap: 12px;\n",
              "    }\n",
              "\n",
              "    .colab-df-convert {\n",
              "      background-color: #E8F0FE;\n",
              "      border: none;\n",
              "      border-radius: 50%;\n",
              "      cursor: pointer;\n",
              "      display: none;\n",
              "      fill: #1967D2;\n",
              "      height: 32px;\n",
              "      padding: 0 0 0 0;\n",
              "      width: 32px;\n",
              "    }\n",
              "\n",
              "    .colab-df-convert:hover {\n",
              "      background-color: #E2EBFA;\n",
              "      box-shadow: 0px 1px 2px rgba(60, 64, 67, 0.3), 0px 1px 3px 1px rgba(60, 64, 67, 0.15);\n",
              "      fill: #174EA6;\n",
              "    }\n",
              "\n",
              "    [theme=dark] .colab-df-convert {\n",
              "      background-color: #3B4455;\n",
              "      fill: #D2E3FC;\n",
              "    }\n",
              "\n",
              "    [theme=dark] .colab-df-convert:hover {\n",
              "      background-color: #434B5C;\n",
              "      box-shadow: 0px 1px 3px 1px rgba(0, 0, 0, 0.15);\n",
              "      filter: drop-shadow(0px 1px 2px rgba(0, 0, 0, 0.3));\n",
              "      fill: #FFFFFF;\n",
              "    }\n",
              "  </style>\n",
              "\n",
              "      <script>\n",
              "        const buttonEl =\n",
              "          document.querySelector('#df-ff441f59-04a9-4da9-b7cb-b681bf5fff83 button.colab-df-convert');\n",
              "        buttonEl.style.display =\n",
              "          google.colab.kernel.accessAllowed ? 'block' : 'none';\n",
              "\n",
              "        async function convertToInteractive(key) {\n",
              "          const element = document.querySelector('#df-ff441f59-04a9-4da9-b7cb-b681bf5fff83');\n",
              "          const dataTable =\n",
              "            await google.colab.kernel.invokeFunction('convertToInteractive',\n",
              "                                                     [key], {});\n",
              "          if (!dataTable) return;\n",
              "\n",
              "          const docLinkHtml = 'Like what you see? Visit the ' +\n",
              "            '<a target=\"_blank\" href=https://colab.research.google.com/notebooks/data_table.ipynb>data table notebook</a>'\n",
              "            + ' to learn more about interactive tables.';\n",
              "          element.innerHTML = '';\n",
              "          dataTable['output_type'] = 'display_data';\n",
              "          await google.colab.output.renderOutput(dataTable, element);\n",
              "          const docLink = document.createElement('div');\n",
              "          docLink.innerHTML = docLinkHtml;\n",
              "          element.appendChild(docLink);\n",
              "        }\n",
              "      </script>\n",
              "    </div>\n",
              "  </div>\n",
              "  "
            ]
          },
          "metadata": {},
          "execution_count": 17
        }
      ]
    },
    {
      "cell_type": "markdown",
      "source": [
        "### 3. Data Cleaning"
      ],
      "metadata": {
        "id": "fx81mXCJrILH"
      }
    },
    {
      "cell_type": "code",
      "source": [
        "#counting null values\n",
        "data.isnull().sum()"
      ],
      "metadata": {
        "colab": {
          "base_uri": "https://localhost:8080/"
        },
        "id": "dk3xYyiWrHLs",
        "outputId": "b2e37888-a74d-4be2-d13e-7d65af0df06f"
      },
      "execution_count": 19,
      "outputs": [
        {
          "output_type": "execute_result",
          "data": {
            "text/plain": [
              "ID                              0\n",
              "Name                            0\n",
              "Age                             0\n",
              "Photo                           0\n",
              "Nationality                     0\n",
              "Flag                            0\n",
              "Overall                         0\n",
              "Potential                       0\n",
              "Club                          211\n",
              "Club Logo                       0\n",
              "Value                           0\n",
              "Wage                            0\n",
              "Special                         0\n",
              "Preferred Foot                  0\n",
              "International Reputation        0\n",
              "Weak Foot                       0\n",
              "Skill Moves                     0\n",
              "Work Rate                       0\n",
              "Body Type                      38\n",
              "Real Face                      38\n",
              "Position                       35\n",
              "Joined                       1098\n",
              "Loaned From                 16966\n",
              "Contract Valid Until          361\n",
              "Height                          0\n",
              "Weight                          0\n",
              "Release Clause               1151\n",
              "Kit Number                     35\n",
              "Best Overall Rating         17639\n",
              "dtype: int64"
            ]
          },
          "metadata": {},
          "execution_count": 19
        }
      ]
    },
    {
      "cell_type": "code",
      "source": [
        "#checking duplicated data\n",
        "data.duplicated().sum()"
      ],
      "metadata": {
        "colab": {
          "base_uri": "https://localhost:8080/"
        },
        "id": "b5slpxAArPR8",
        "outputId": "73ab6f6b-8f3f-487b-ba91-71d8ae03e3b0"
      },
      "execution_count": 20,
      "outputs": [
        {
          "output_type": "execute_result",
          "data": {
            "text/plain": [
              "0"
            ]
          },
          "metadata": {},
          "execution_count": 20
        }
      ]
    },
    {
      "cell_type": "markdown",
      "source": [
        "no duplicates present"
      ],
      "metadata": {
        "id": "nZji7taCrno0"
      }
    },
    {
      "cell_type": "markdown",
      "source": [
        "### 4. Data Visualization"
      ],
      "metadata": {
        "id": "-AXdEBITryE8"
      }
    },
    {
      "cell_type": "code",
      "source": [
        "# Looking into Nationality feature\n",
        "print(f'Nationality feature has {data[\"Nationality\"].nunique()} unique values')"
      ],
      "metadata": {
        "colab": {
          "base_uri": "https://localhost:8080/"
        },
        "id": "4K4rv5LmsP2Y",
        "outputId": "014b4ef4-2b94-443f-ae2f-8f0b79e60bfb"
      },
      "execution_count": 21,
      "outputs": [
        {
          "output_type": "stream",
          "name": "stdout",
          "text": [
            "Nationality feature has 161 unique values\n"
          ]
        }
      ]
    },
    {
      "cell_type": "code",
      "source": [
        "# Count value per Nationality\n",
        "data_nationality_counts = data[\"Nationality\"].value_counts()\n",
        "data_nationality_counts"
      ],
      "metadata": {
        "colab": {
          "base_uri": "https://localhost:8080/"
        },
        "id": "cSWmW2wisS7k",
        "outputId": "84c41e0b-7144-4cfb-da8c-2a4d287ffc91"
      },
      "execution_count": 22,
      "outputs": [
        {
          "output_type": "execute_result",
          "data": {
            "text/plain": [
              "England                  1531\n",
              "Germany                  1038\n",
              "Spain                     990\n",
              "France                    864\n",
              "Argentina                 843\n",
              "                         ... \n",
              "Korea DPR                   1\n",
              "Vietnam                     1\n",
              "Kuwait                      1\n",
              "Philippines                 1\n",
              "Saint Kitts and Nevis       1\n",
              "Name: Nationality, Length: 161, dtype: int64"
            ]
          },
          "metadata": {},
          "execution_count": 22
        }
      ]
    },
    {
      "cell_type": "code",
      "source": [
        "# Plot the count of players\n",
        "data_nationality_counts.plot(kind=\"barh\")\n",
        "plt.xlabel(\"Count of players by Nationality\");"
      ],
      "metadata": {
        "colab": {
          "base_uri": "https://localhost:8080/",
          "height": 283
        },
        "id": "Av98YPqfsbsg",
        "outputId": "cd2a1a53-f7e6-4e02-f4e9-a4eb3e086fd0"
      },
      "execution_count": 23,
      "outputs": [
        {
          "output_type": "display_data",
          "data": {
            "text/plain": [
              "<Figure size 432x288 with 1 Axes>"
            ],
            "image/png": "[encoded data removed]"
          },
          "metadata": {
            "needs_background": "light"
          }
        }
      ]
    },
    {
      "cell_type": "code",
      "source": [
        "sns.barplot(x='Nationality' , y = 'Overall' , data = data)\n",
        "plt.show()"
      ],
      "metadata": {
        "colab": {
          "base_uri": "https://localhost:8080/",
          "height": 279
        },
        "id": "mjLTUb3U0ZJA",
        "outputId": "17c5d2f2-9aa5-4d94-bf5f-7cefae07d0b4"
      },
      "execution_count": 66,
      "outputs": [
        {
          "output_type": "display_data",
          "data": {
            "text/plain": [
              "<Figure size 432x288 with 1 Axes>"
            ],
            "image/png": "[encoded data removed]"
          },
          "metadata": {
            "needs_background": "light"
          }
        }
      ]
    },
    {
      "cell_type": "code",
      "source": [
        "sns.lineplot(data = data['Best Overall Rating'])"
      ],
      "metadata": {
        "colab": {
          "base_uri": "https://localhost:8080/",
          "height": 282
        },
        "id": "8q0-PJPE1Xj8",
        "outputId": "be98438b-f338-41ed-ca91-1a6f96747be2"
      },
      "execution_count": 53,
      "outputs": [
        {
          "output_type": "execute_result",
          "data": {
            "text/plain": [
              "<matplotlib.axes._subplots.AxesSubplot at 0x7f1507626dd0>"
            ]
          },
          "metadata": {},
          "execution_count": 53
        },
        {
          "output_type": "display_data",
          "data": {
            "text/plain": [
              "<Figure size 432x288 with 1 Axes>"
            ],
            "image/png": "[encoded data removed]"
          },
          "metadata": {
            "needs_background": "light"
          }
        }
      ]
    },
    {
      "cell_type": "markdown",
      "source": [
        "Huge fluctuation between best overall rating"
      ],
      "metadata": {
        "id": "0w1zDrFk4dga"
      }
    },
    {
      "cell_type": "code",
      "source": [
        "sns.scatterplot(x = data['Age'] , y = data['Overall'], hue = data['Potential'])\n"
      ],
      "metadata": {
        "colab": {
          "base_uri": "https://localhost:8080/",
          "height": 296
        },
        "id": "WoKFRHf31g9Q",
        "outputId": "5b57a2ba-68e7-4be4-bc27-04a82da5e0ee"
      },
      "execution_count": 60,
      "outputs": [
        {
          "output_type": "execute_result",
          "data": {
            "text/plain": [
              "<matplotlib.axes._subplots.AxesSubplot at 0x7f15618d8450>"
            ]
          },
          "metadata": {},
          "execution_count": 60
        },
        {
          "output_type": "display_data",
          "data": {
            "text/plain": [
              "<Figure size 432x288 with 1 Axes>"
            ],
            "image/png": "[encoded data removed]"
          },
          "metadata": {
            "needs_background": "light"
          }
        }
      ]
    },
    {
      "cell_type": "markdown",
      "source": [
        "Hence we can see as the age increase the potential of player decrese"
      ],
      "metadata": {
        "id": "xPPFFrtR4Oao"
      }
    },
    {
      "cell_type": "code",
      "source": [
        "sns.histplot(data['Value'])"
      ],
      "metadata": {
        "colab": {
          "base_uri": "https://localhost:8080/",
          "height": 296
        },
        "id": "K4T8Ltf92XEX",
        "outputId": "c03f1f75-2bf0-45c4-db3c-5bc9f1bf2a3d"
      },
      "execution_count": 57,
      "outputs": [
        {
          "output_type": "execute_result",
          "data": {
            "text/plain": [
              "<matplotlib.axes._subplots.AxesSubplot at 0x7f14fe9b4890>"
            ]
          },
          "metadata": {},
          "execution_count": 57
        },
        {
          "output_type": "display_data",
          "data": {
            "text/plain": [
              "<Figure size 432x288 with 1 Axes>"
            ],
            "image/png": "[encoded data removed]"
          },
          "metadata": {
            "needs_background": "light"
          }
        }
      ]
    },
    {
      "cell_type": "markdown",
      "source": [
        "### Split Data\n",
        "The exploration and visualization step is done. Now splitting data for training and testing"
      ],
      "metadata": {
        "id": "1BMmykMJ3hiC"
      }
    },
    {
      "cell_type": "code",
      "source": [
        "target = [\"Wage\"]\n",
        "features = [\"Nationality\"]\n",
        "y = data[target]\n",
        "X = data[features]"
      ],
      "metadata": {
        "id": "KW1lzKI13w-b"
      },
      "execution_count": 58,
      "outputs": []
    },
    {
      "cell_type": "code",
      "source": [
        "X_train, X_test, y_train, y_test = train_test_split(\n",
        "    X, y, test_size=0.2, random_state=42\n",
        ")\n",
        "\n",
        "print(\"X_train shape:\", X_train.shape)\n",
        "print(\"y_train shape:\", y_train.shape)\n",
        "print(\"X_test shape:\", X_test.shape)\n",
        "print(\"y_test shape:\", y_test.shape)"
      ],
      "metadata": {
        "colab": {
          "base_uri": "https://localhost:8080/"
        },
        "id": "7GIBXUir3s4s",
        "outputId": "810f68b2-078e-480e-dcac-c39cecfc81e2"
      },
      "execution_count": 59,
      "outputs": [
        {
          "output_type": "stream",
          "name": "stdout",
          "text": [
            "X_train shape: (14128, 1)\n",
            "y_train shape: (14128, 1)\n",
            "X_test shape: (3532, 1)\n",
            "y_test shape: (3532, 1)\n"
          ]
        }
      ]
    },
    {
      "cell_type": "markdown",
      "source": [
        "Hence visualization is done."
      ],
      "metadata": {
        "id": "4dOusWrI354P"
      }
    }
  ]
}